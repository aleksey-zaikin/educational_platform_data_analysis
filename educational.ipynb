{
 "cells": [
  {
   "cell_type": "code",
   "execution_count": 65,
   "id": "bd02abd4",
   "metadata": {},
   "outputs": [],
   "source": [
    "import pandas as pd\n",
    "import numpy as np\n",
    "import seaborn as sns\n",
    "import matplotlib.pyplot as plt\n",
    "%matplotlib inline\n",
    "from scipy import stats\n",
    "from scipy.stats import bootstrap\n",
    "import pandahouse as ph"
   ]
  },
  {
   "cell_type": "markdown",
   "id": "226c8194",
   "metadata": {},
   "source": [
    "# 1. A/B–тестирование\n",
    "## Условие\n",
    "\n",
    "#### В ходе тестирования одной гипотезы целевой группе была предложена новая механика оплаты услуг на сайте, у контрольной группы оставалась базовая механика. Необходимо проанализировать итоги эксперимента и сделать вывод, стоит ли запускать новую механику оплаты на всех пользователей.\n",
    "## Входные данные\n",
    "#### В качестве входных данных Вы имеете 4 csv-файла:\n",
    "* **groups.csv - файл с информацией о принадлежности пользователя к контрольной или экспериментальной группе (А – контроль, B – целевая группа)** \n",
    "* **groups_add.csv - дополнительный файл с пользователями**\n",
    "* **active_studs.csv - файл с информацией о пользователях, которые зашли на платформу в дни проведения эксперимента** \n",
    "* **checks.csv - файл с информацией об оплатах пользователей в дни проведения эксперимента**"
   ]
  },
  {
   "cell_type": "code",
   "execution_count": 66,
   "id": "69074bcb",
   "metadata": {},
   "outputs": [],
   "source": [
    "# Загружаем данные\n",
    "groups = pd.read_csv('groups.csv', sep=';') \n",
    "group_add = pd.read_csv('group_add.csv')\n",
    "active_studs = pd.read_csv('active_studs.csv', sep=';')\n",
    "checks = pd.read_csv('checks.csv', sep=';')"
   ]
  },
  {
   "cell_type": "markdown",
   "id": "c1fcd94c",
   "metadata": {},
   "source": [
    "#### Изучаем данные:"
   ]
  },
  {
   "cell_type": "code",
   "execution_count": 67,
   "id": "80f12a43",
   "metadata": {},
   "outputs": [
    {
     "data": {
      "text/html": [
       "<div>\n",
       "<style scoped>\n",
       "    .dataframe tbody tr th:only-of-type {\n",
       "        vertical-align: middle;\n",
       "    }\n",
       "\n",
       "    .dataframe tbody tr th {\n",
       "        vertical-align: top;\n",
       "    }\n",
       "\n",
       "    .dataframe thead th {\n",
       "        text-align: right;\n",
       "    }\n",
       "</style>\n",
       "<table border=\"1\" class=\"dataframe\">\n",
       "  <thead>\n",
       "    <tr style=\"text-align: right;\">\n",
       "      <th></th>\n",
       "      <th>id</th>\n",
       "      <th>grp</th>\n",
       "    </tr>\n",
       "  </thead>\n",
       "  <tbody>\n",
       "    <tr>\n",
       "      <th>0</th>\n",
       "      <td>1489</td>\n",
       "      <td>B</td>\n",
       "    </tr>\n",
       "    <tr>\n",
       "      <th>1</th>\n",
       "      <td>1627</td>\n",
       "      <td>A</td>\n",
       "    </tr>\n",
       "    <tr>\n",
       "      <th>2</th>\n",
       "      <td>1768</td>\n",
       "      <td>B</td>\n",
       "    </tr>\n",
       "  </tbody>\n",
       "</table>\n",
       "</div>"
      ],
      "text/plain": [
       "     id grp\n",
       "0  1489   B\n",
       "1  1627   A\n",
       "2  1768   B"
      ]
     },
     "execution_count": 67,
     "metadata": {},
     "output_type": "execute_result"
    }
   ],
   "source": [
    "groups.head(3)"
   ]
  },
  {
   "cell_type": "code",
   "execution_count": 68,
   "id": "037f5a43",
   "metadata": {},
   "outputs": [
    {
     "data": {
      "text/plain": [
       "74484"
      ]
     },
     "execution_count": 68,
     "metadata": {},
     "output_type": "execute_result"
    }
   ],
   "source": [
    "groups.id.nunique()"
   ]
  },
  {
   "cell_type": "code",
   "execution_count": 69,
   "id": "0e22f84a",
   "metadata": {},
   "outputs": [
    {
     "data": {
      "text/plain": [
       "B    59813\n",
       "A    14671\n",
       "Name: grp, dtype: int64"
      ]
     },
     "execution_count": 69,
     "metadata": {},
     "output_type": "execute_result"
    }
   ],
   "source": [
    "groups.grp.value_counts()"
   ]
  },
  {
   "cell_type": "code",
   "execution_count": 70,
   "id": "6186384d",
   "metadata": {},
   "outputs": [
    {
     "data": {
      "text/html": [
       "<div>\n",
       "<style scoped>\n",
       "    .dataframe tbody tr th:only-of-type {\n",
       "        vertical-align: middle;\n",
       "    }\n",
       "\n",
       "    .dataframe tbody tr th {\n",
       "        vertical-align: top;\n",
       "    }\n",
       "\n",
       "    .dataframe thead th {\n",
       "        text-align: right;\n",
       "    }\n",
       "</style>\n",
       "<table border=\"1\" class=\"dataframe\">\n",
       "  <thead>\n",
       "    <tr style=\"text-align: right;\">\n",
       "      <th></th>\n",
       "      <th>id</th>\n",
       "      <th>grp</th>\n",
       "    </tr>\n",
       "  </thead>\n",
       "  <tbody>\n",
       "    <tr>\n",
       "      <th>0</th>\n",
       "      <td>5694584</td>\n",
       "      <td>B</td>\n",
       "    </tr>\n",
       "    <tr>\n",
       "      <th>1</th>\n",
       "      <td>5694830</td>\n",
       "      <td>B</td>\n",
       "    </tr>\n",
       "    <tr>\n",
       "      <th>2</th>\n",
       "      <td>5695057</td>\n",
       "      <td>B</td>\n",
       "    </tr>\n",
       "  </tbody>\n",
       "</table>\n",
       "</div>"
      ],
      "text/plain": [
       "        id grp\n",
       "0  5694584   B\n",
       "1  5694830   B\n",
       "2  5695057   B"
      ]
     },
     "execution_count": 70,
     "metadata": {},
     "output_type": "execute_result"
    }
   ],
   "source": [
    "group_add.head(3)"
   ]
  },
  {
   "cell_type": "code",
   "execution_count": 71,
   "id": "06a126a0",
   "metadata": {},
   "outputs": [
    {
     "data": {
      "text/plain": [
       "92"
      ]
     },
     "execution_count": 71,
     "metadata": {},
     "output_type": "execute_result"
    }
   ],
   "source": [
    "group_add.id.nunique()"
   ]
  },
  {
   "cell_type": "code",
   "execution_count": 72,
   "id": "8c34c9d5",
   "metadata": {},
   "outputs": [
    {
     "data": {
      "text/plain": [
       "B    70\n",
       "A    22\n",
       "Name: grp, dtype: int64"
      ]
     },
     "execution_count": 72,
     "metadata": {},
     "output_type": "execute_result"
    }
   ],
   "source": [
    "group_add.grp.value_counts()"
   ]
  },
  {
   "cell_type": "code",
   "execution_count": 73,
   "id": "5b1be890",
   "metadata": {},
   "outputs": [
    {
     "data": {
      "text/html": [
       "<div>\n",
       "<style scoped>\n",
       "    .dataframe tbody tr th:only-of-type {\n",
       "        vertical-align: middle;\n",
       "    }\n",
       "\n",
       "    .dataframe tbody tr th {\n",
       "        vertical-align: top;\n",
       "    }\n",
       "\n",
       "    .dataframe thead th {\n",
       "        text-align: right;\n",
       "    }\n",
       "</style>\n",
       "<table border=\"1\" class=\"dataframe\">\n",
       "  <thead>\n",
       "    <tr style=\"text-align: right;\">\n",
       "      <th></th>\n",
       "      <th>student_id</th>\n",
       "    </tr>\n",
       "  </thead>\n",
       "  <tbody>\n",
       "    <tr>\n",
       "      <th>0</th>\n",
       "      <td>581585</td>\n",
       "    </tr>\n",
       "    <tr>\n",
       "      <th>1</th>\n",
       "      <td>5723133</td>\n",
       "    </tr>\n",
       "    <tr>\n",
       "      <th>2</th>\n",
       "      <td>3276743</td>\n",
       "    </tr>\n",
       "  </tbody>\n",
       "</table>\n",
       "</div>"
      ],
      "text/plain": [
       "   student_id\n",
       "0      581585\n",
       "1     5723133\n",
       "2     3276743"
      ]
     },
     "execution_count": 73,
     "metadata": {},
     "output_type": "execute_result"
    }
   ],
   "source": [
    "active_studs.head(3)"
   ]
  },
  {
   "cell_type": "code",
   "execution_count": 74,
   "id": "e1aac243",
   "metadata": {},
   "outputs": [
    {
     "data": {
      "text/plain": [
       "8341"
      ]
     },
     "execution_count": 74,
     "metadata": {},
     "output_type": "execute_result"
    }
   ],
   "source": [
    "active_studs.student_id.nunique()"
   ]
  },
  {
   "cell_type": "code",
   "execution_count": 75,
   "id": "697ab8b5",
   "metadata": {},
   "outputs": [
    {
     "data": {
      "text/html": [
       "<div>\n",
       "<style scoped>\n",
       "    .dataframe tbody tr th:only-of-type {\n",
       "        vertical-align: middle;\n",
       "    }\n",
       "\n",
       "    .dataframe tbody tr th {\n",
       "        vertical-align: top;\n",
       "    }\n",
       "\n",
       "    .dataframe thead th {\n",
       "        text-align: right;\n",
       "    }\n",
       "</style>\n",
       "<table border=\"1\" class=\"dataframe\">\n",
       "  <thead>\n",
       "    <tr style=\"text-align: right;\">\n",
       "      <th></th>\n",
       "      <th>student_id</th>\n",
       "      <th>rev</th>\n",
       "    </tr>\n",
       "  </thead>\n",
       "  <tbody>\n",
       "    <tr>\n",
       "      <th>0</th>\n",
       "      <td>1627</td>\n",
       "      <td>990.0</td>\n",
       "    </tr>\n",
       "    <tr>\n",
       "      <th>1</th>\n",
       "      <td>3185</td>\n",
       "      <td>690.0</td>\n",
       "    </tr>\n",
       "    <tr>\n",
       "      <th>2</th>\n",
       "      <td>25973</td>\n",
       "      <td>690.0</td>\n",
       "    </tr>\n",
       "  </tbody>\n",
       "</table>\n",
       "</div>"
      ],
      "text/plain": [
       "   student_id    rev\n",
       "0        1627  990.0\n",
       "1        3185  690.0\n",
       "2       25973  690.0"
      ]
     },
     "execution_count": 75,
     "metadata": {},
     "output_type": "execute_result"
    }
   ],
   "source": [
    "checks.head(3)"
   ]
  },
  {
   "cell_type": "code",
   "execution_count": 76,
   "id": "6e7cb8f2",
   "metadata": {},
   "outputs": [
    {
     "data": {
      "text/plain": [
       "student_id    541\n",
       "rev           541\n",
       "dtype: int64"
      ]
     },
     "execution_count": 76,
     "metadata": {},
     "output_type": "execute_result"
    }
   ],
   "source": [
    "checks.count()"
   ]
  },
  {
   "cell_type": "code",
   "execution_count": 79,
   "id": "90981eae",
   "metadata": {},
   "outputs": [
    {
     "data": {
      "text/plain": [
       "rev    541\n",
       "dtype: int64"
      ]
     },
     "execution_count": 79,
     "metadata": {},
     "output_type": "execute_result"
    }
   ],
   "source": [
    "checks.groupby('student_id') \\\n",
    "    .agg({'rev': 'sum'}).count()"
   ]
  },
  {
   "cell_type": "markdown",
   "id": "2e1dc040",
   "metadata": {},
   "source": [
    "#### Количество уникальных пользователей в таблице совпадает с количеством строк, будем считать, что одна строка - это суммарная выручка с пользователя за период. "
   ]
  },
  {
   "cell_type": "code",
   "execution_count": 80,
   "id": "1d2cfffd",
   "metadata": {},
   "outputs": [
    {
     "data": {
      "text/html": [
       "<div>\n",
       "<style scoped>\n",
       "    .dataframe tbody tr th:only-of-type {\n",
       "        vertical-align: middle;\n",
       "    }\n",
       "\n",
       "    .dataframe tbody tr th {\n",
       "        vertical-align: top;\n",
       "    }\n",
       "\n",
       "    .dataframe thead th {\n",
       "        text-align: right;\n",
       "    }\n",
       "</style>\n",
       "<table border=\"1\" class=\"dataframe\">\n",
       "  <thead>\n",
       "    <tr style=\"text-align: right;\">\n",
       "      <th></th>\n",
       "      <th>id</th>\n",
       "      <th>grp</th>\n",
       "    </tr>\n",
       "  </thead>\n",
       "  <tbody>\n",
       "    <tr>\n",
       "      <th>0</th>\n",
       "      <td>1489</td>\n",
       "      <td>B</td>\n",
       "    </tr>\n",
       "    <tr>\n",
       "      <th>1</th>\n",
       "      <td>1627</td>\n",
       "      <td>A</td>\n",
       "    </tr>\n",
       "    <tr>\n",
       "      <th>2</th>\n",
       "      <td>1768</td>\n",
       "      <td>B</td>\n",
       "    </tr>\n",
       "  </tbody>\n",
       "</table>\n",
       "</div>"
      ],
      "text/plain": [
       "     id grp\n",
       "0  1489   B\n",
       "1  1627   A\n",
       "2  1768   B"
      ]
     },
     "execution_count": 80,
     "metadata": {},
     "output_type": "execute_result"
    }
   ],
   "source": [
    "# Объединим датафреймы с основными и дополнительными данными\n",
    "df_groups = pd.concat([groups, group_add], axis=0, ignore_index=True)\n",
    "df_groups.head(3)"
   ]
  },
  {
   "cell_type": "code",
   "execution_count": 81,
   "id": "55e83e6c",
   "metadata": {},
   "outputs": [
    {
     "data": {
      "text/plain": [
       "74576"
      ]
     },
     "execution_count": 81,
     "metadata": {},
     "output_type": "execute_result"
    }
   ],
   "source": [
    "df_groups.id.nunique()"
   ]
  },
  {
   "cell_type": "markdown",
   "id": "07df1557",
   "metadata": {},
   "source": [
    "#### Итак, мы имеем 74576 пользователей в группах.\n",
    "#### Из них 8341 зашли на платформу и 541 совершили оплату в дни проведения эксперимента.\n",
    "#### Посмотрим подробнее на распределение данных пользователей по группам.\n"
   ]
  },
  {
   "cell_type": "code",
   "execution_count": 82,
   "id": "4d352dad",
   "metadata": {},
   "outputs": [
    {
     "data": {
      "text/html": [
       "<div>\n",
       "<style scoped>\n",
       "    .dataframe tbody tr th:only-of-type {\n",
       "        vertical-align: middle;\n",
       "    }\n",
       "\n",
       "    .dataframe tbody tr th {\n",
       "        vertical-align: top;\n",
       "    }\n",
       "\n",
       "    .dataframe thead th {\n",
       "        text-align: right;\n",
       "    }\n",
       "</style>\n",
       "<table border=\"1\" class=\"dataframe\">\n",
       "  <thead>\n",
       "    <tr style=\"text-align: right;\">\n",
       "      <th></th>\n",
       "      <th>student_id</th>\n",
       "      <th>grp</th>\n",
       "      <th>active</th>\n",
       "      <th>rev</th>\n",
       "    </tr>\n",
       "  </thead>\n",
       "  <tbody>\n",
       "    <tr>\n",
       "      <th>0</th>\n",
       "      <td>1489</td>\n",
       "      <td>B</td>\n",
       "      <td>NaN</td>\n",
       "      <td>NaN</td>\n",
       "    </tr>\n",
       "    <tr>\n",
       "      <th>1</th>\n",
       "      <td>1627</td>\n",
       "      <td>A</td>\n",
       "      <td>1.0</td>\n",
       "      <td>990.0</td>\n",
       "    </tr>\n",
       "    <tr>\n",
       "      <th>2</th>\n",
       "      <td>1768</td>\n",
       "      <td>B</td>\n",
       "      <td>NaN</td>\n",
       "      <td>NaN</td>\n",
       "    </tr>\n",
       "    <tr>\n",
       "      <th>3</th>\n",
       "      <td>1783</td>\n",
       "      <td>B</td>\n",
       "      <td>NaN</td>\n",
       "      <td>NaN</td>\n",
       "    </tr>\n",
       "    <tr>\n",
       "      <th>4</th>\n",
       "      <td>1794</td>\n",
       "      <td>A</td>\n",
       "      <td>NaN</td>\n",
       "      <td>NaN</td>\n",
       "    </tr>\n",
       "  </tbody>\n",
       "</table>\n",
       "</div>"
      ],
      "text/plain": [
       "   student_id grp  active    rev\n",
       "0        1489   B     NaN    NaN\n",
       "1        1627   A     1.0  990.0\n",
       "2        1768   B     NaN    NaN\n",
       "3        1783   B     NaN    NaN\n",
       "4        1794   A     NaN    NaN"
      ]
     },
     "execution_count": 82,
     "metadata": {},
     "output_type": "execute_result"
    }
   ],
   "source": [
    "# Объединяем датафреймы с группами пользователей, с активными пользователями и с пользователями, совершившими покупку\n",
    "df_ab = df_groups.rename(columns={'id': 'student_id'}) \\\n",
    "    .merge(active_studs.assign(active=1), how='left') \\\n",
    "    .merge(checks, how='left')\n",
    "df_ab.head()"
   ]
  },
  {
   "cell_type": "code",
   "execution_count": 83,
   "id": "bf697746",
   "metadata": {},
   "outputs": [
    {
     "data": {
      "text/html": [
       "<div>\n",
       "<style scoped>\n",
       "    .dataframe tbody tr th:only-of-type {\n",
       "        vertical-align: middle;\n",
       "    }\n",
       "\n",
       "    .dataframe tbody tr th {\n",
       "        vertical-align: top;\n",
       "    }\n",
       "\n",
       "    .dataframe thead th {\n",
       "        text-align: right;\n",
       "    }\n",
       "</style>\n",
       "<table border=\"1\" class=\"dataframe\">\n",
       "  <thead>\n",
       "    <tr style=\"text-align: right;\">\n",
       "      <th></th>\n",
       "      <th>student_id</th>\n",
       "      <th>grp</th>\n",
       "      <th>active</th>\n",
       "      <th>rev</th>\n",
       "      <th>active_paying</th>\n",
       "      <th>paying</th>\n",
       "    </tr>\n",
       "  </thead>\n",
       "  <tbody>\n",
       "    <tr>\n",
       "      <th>0</th>\n",
       "      <td>1489</td>\n",
       "      <td>B</td>\n",
       "      <td>NaN</td>\n",
       "      <td>NaN</td>\n",
       "      <td>0</td>\n",
       "      <td>0</td>\n",
       "    </tr>\n",
       "    <tr>\n",
       "      <th>1</th>\n",
       "      <td>1627</td>\n",
       "      <td>A</td>\n",
       "      <td>1.0</td>\n",
       "      <td>990.0</td>\n",
       "      <td>1</td>\n",
       "      <td>1</td>\n",
       "    </tr>\n",
       "    <tr>\n",
       "      <th>2</th>\n",
       "      <td>1768</td>\n",
       "      <td>B</td>\n",
       "      <td>NaN</td>\n",
       "      <td>NaN</td>\n",
       "      <td>0</td>\n",
       "      <td>0</td>\n",
       "    </tr>\n",
       "    <tr>\n",
       "      <th>3</th>\n",
       "      <td>1783</td>\n",
       "      <td>B</td>\n",
       "      <td>NaN</td>\n",
       "      <td>NaN</td>\n",
       "      <td>0</td>\n",
       "      <td>0</td>\n",
       "    </tr>\n",
       "    <tr>\n",
       "      <th>4</th>\n",
       "      <td>1794</td>\n",
       "      <td>A</td>\n",
       "      <td>NaN</td>\n",
       "      <td>NaN</td>\n",
       "      <td>0</td>\n",
       "      <td>0</td>\n",
       "    </tr>\n",
       "  </tbody>\n",
       "</table>\n",
       "</div>"
      ],
      "text/plain": [
       "   student_id grp  active    rev  active_paying  paying\n",
       "0        1489   B     NaN    NaN              0       0\n",
       "1        1627   A     1.0  990.0              1       1\n",
       "2        1768   B     NaN    NaN              0       0\n",
       "3        1783   B     NaN    NaN              0       0\n",
       "4        1794   A     NaN    NaN              0       0"
      ]
     },
     "execution_count": 83,
     "metadata": {},
     "output_type": "execute_result"
    }
   ],
   "source": [
    "# Добавим колонки paying и active_paying для подсчета пользователей совершивших покупку и \n",
    "# активных пользователей совершивших покупку\n",
    "df_ab['active_paying'] = np.where((df_ab.active + df_ab.rev).isna(), 0, 1)\n",
    "df_ab['paying'] = np.where(df_ab.rev.isna(), 0, 1)\n",
    "df_ab.head()"
   ]
  },
  {
   "cell_type": "code",
   "execution_count": 84,
   "id": "5f4a5a2f",
   "metadata": {
    "scrolled": true
   },
   "outputs": [
    {
     "data": {
      "text/html": [
       "<div>\n",
       "<style scoped>\n",
       "    .dataframe tbody tr th:only-of-type {\n",
       "        vertical-align: middle;\n",
       "    }\n",
       "\n",
       "    .dataframe tbody tr th {\n",
       "        vertical-align: top;\n",
       "    }\n",
       "\n",
       "    .dataframe thead th {\n",
       "        text-align: right;\n",
       "    }\n",
       "</style>\n",
       "<table border=\"1\" class=\"dataframe\">\n",
       "  <thead>\n",
       "    <tr style=\"text-align: right;\">\n",
       "      <th></th>\n",
       "      <th>grp</th>\n",
       "      <th>users</th>\n",
       "      <th>active</th>\n",
       "      <th>paying</th>\n",
       "      <th>active_paying</th>\n",
       "      <th>revenue</th>\n",
       "    </tr>\n",
       "  </thead>\n",
       "  <tbody>\n",
       "    <tr>\n",
       "      <th>0</th>\n",
       "      <td>A</td>\n",
       "      <td>14693</td>\n",
       "      <td>1538</td>\n",
       "      <td>107</td>\n",
       "      <td>78</td>\n",
       "      <td>92096.0000</td>\n",
       "    </tr>\n",
       "    <tr>\n",
       "      <th>1</th>\n",
       "      <td>B</td>\n",
       "      <td>59883</td>\n",
       "      <td>6803</td>\n",
       "      <td>434</td>\n",
       "      <td>314</td>\n",
       "      <td>481230.0036</td>\n",
       "    </tr>\n",
       "  </tbody>\n",
       "</table>\n",
       "</div>"
      ],
      "text/plain": [
       "  grp  users  active  paying  active_paying      revenue\n",
       "0   A  14693    1538     107             78   92096.0000\n",
       "1   B  59883    6803     434            314  481230.0036"
      ]
     },
     "execution_count": 84,
     "metadata": {},
     "output_type": "execute_result"
    }
   ],
   "source": [
    "# Группируем и считаем\n",
    "#     - количество пользователей,\n",
    "#     - активных пользователей,\n",
    "#     - платящих пользователей,\n",
    "#     - активных и платящих пользователей,\n",
    "#     - выручку по группам.\n",
    "df_ab_grp = df_ab.groupby('grp', as_index=False) \\\n",
    "    .agg({'student_id': 'count', 'active': 'count', 'paying': 'sum', 'active_paying': 'sum', 'rev': 'sum'}) \\\n",
    "    .rename(columns={'student_id': 'users', 'rev': 'revenue'})\n",
    "df_ab_grp"
   ]
  },
  {
   "cell_type": "markdown",
   "id": "5de61c16",
   "metadata": {},
   "source": [
    "#### Видим, что количество пользователей совершивших покупку(paying) больше, чем количество пользователей посетивших сайт и совершивших покупку(active_paying), это говорит о том, что есть пользователи которые оплатили курс без посещения сайта, т.е. они не воспользовались новой механикой оплаты на сайте. А значит они нам не интересны."
   ]
  },
  {
   "cell_type": "markdown",
   "id": "caf3784f",
   "metadata": {},
   "source": [
    "#### Посчитаем дополнительно выручку, которую мы получили с активных пользователей."
   ]
  },
  {
   "cell_type": "code",
   "execution_count": 85,
   "id": "a697e489",
   "metadata": {},
   "outputs": [
    {
     "data": {
      "text/html": [
       "<div>\n",
       "<style scoped>\n",
       "    .dataframe tbody tr th:only-of-type {\n",
       "        vertical-align: middle;\n",
       "    }\n",
       "\n",
       "    .dataframe tbody tr th {\n",
       "        vertical-align: top;\n",
       "    }\n",
       "\n",
       "    .dataframe thead th {\n",
       "        text-align: right;\n",
       "    }\n",
       "</style>\n",
       "<table border=\"1\" class=\"dataframe\">\n",
       "  <thead>\n",
       "    <tr style=\"text-align: right;\">\n",
       "      <th></th>\n",
       "      <th>grp</th>\n",
       "      <th>users</th>\n",
       "      <th>active</th>\n",
       "      <th>paying</th>\n",
       "      <th>active_paying</th>\n",
       "      <th>revenue</th>\n",
       "      <th>revenue_active</th>\n",
       "    </tr>\n",
       "  </thead>\n",
       "  <tbody>\n",
       "    <tr>\n",
       "      <th>0</th>\n",
       "      <td>A</td>\n",
       "      <td>14693</td>\n",
       "      <td>1538</td>\n",
       "      <td>107</td>\n",
       "      <td>78</td>\n",
       "      <td>92096.0000</td>\n",
       "      <td>72820.0000</td>\n",
       "    </tr>\n",
       "    <tr>\n",
       "      <th>1</th>\n",
       "      <td>B</td>\n",
       "      <td>59883</td>\n",
       "      <td>6803</td>\n",
       "      <td>434</td>\n",
       "      <td>314</td>\n",
       "      <td>481230.0036</td>\n",
       "      <td>394974.0035</td>\n",
       "    </tr>\n",
       "  </tbody>\n",
       "</table>\n",
       "</div>"
      ],
      "text/plain": [
       "  grp  users  active  paying  active_paying      revenue  revenue_active\n",
       "0   A  14693    1538     107             78   92096.0000      72820.0000\n",
       "1   B  59883    6803     434            314  481230.0036     394974.0035"
      ]
     },
     "execution_count": 85,
     "metadata": {},
     "output_type": "execute_result"
    }
   ],
   "source": [
    "rev_act = df_ab.query('active == 1') \\\n",
    "    .groupby('grp', as_index=False) \\\n",
    "    .agg({'rev': 'sum'}) \\\n",
    "    .rename(columns={'rev': 'revenue_active'})\n",
    "df_ab_grp = pd.concat([df_ab_grp, rev_act['revenue_active']], axis=1)\n",
    "df_ab_grp"
   ]
  },
  {
   "cell_type": "markdown",
   "id": "b7be82fb",
   "metadata": {},
   "source": [
    "#### Посчитаем и сравним следующие метрики:\n",
    "* **CR_active - конверсия активного пользователя в покупку(под активным пользователем подразумеваем пользователя который зашел на платформу в период проведения эксперимента)** \n",
    "* **ARPPU - средняя выручка на одного платящего пользователя(в расчет будем брать только, пользователей оплативших курс и посетивших сайт(active_paying))**\n",
    "\n",
    "#### Метрика конверсии является ключевой в данном эксперименте, т.к. новая механика оплаты напрямую влияет на то, совершит ли покупку пользователь или нет.\n",
    "#### Выручка с пользователя - дополнительная метрика, для контроля. Ведь в конечном итоге нам важен доход, который мы получаем. И повышение конверсии не всегда приводит к увеличению выручки(если уменьшится средний чек или количество повторных покупок, может снизится и выручка)."
   ]
  },
  {
   "cell_type": "code",
   "execution_count": 86,
   "id": "37273646",
   "metadata": {
    "scrolled": true
   },
   "outputs": [
    {
     "data": {
      "text/html": [
       "<div>\n",
       "<style scoped>\n",
       "    .dataframe tbody tr th:only-of-type {\n",
       "        vertical-align: middle;\n",
       "    }\n",
       "\n",
       "    .dataframe tbody tr th {\n",
       "        vertical-align: top;\n",
       "    }\n",
       "\n",
       "    .dataframe thead th {\n",
       "        text-align: right;\n",
       "    }\n",
       "</style>\n",
       "<table border=\"1\" class=\"dataframe\">\n",
       "  <thead>\n",
       "    <tr style=\"text-align: right;\">\n",
       "      <th></th>\n",
       "      <th>grp</th>\n",
       "      <th>users</th>\n",
       "      <th>active</th>\n",
       "      <th>paying</th>\n",
       "      <th>active_paying</th>\n",
       "      <th>revenue</th>\n",
       "      <th>revenue_active</th>\n",
       "      <th>CR_active</th>\n",
       "      <th>ARPPU</th>\n",
       "    </tr>\n",
       "  </thead>\n",
       "  <tbody>\n",
       "    <tr>\n",
       "      <th>0</th>\n",
       "      <td>A</td>\n",
       "      <td>14693</td>\n",
       "      <td>1538</td>\n",
       "      <td>107</td>\n",
       "      <td>78</td>\n",
       "      <td>92096.0000</td>\n",
       "      <td>72820.0000</td>\n",
       "      <td>0.050715</td>\n",
       "      <td>933.589744</td>\n",
       "    </tr>\n",
       "    <tr>\n",
       "      <th>1</th>\n",
       "      <td>B</td>\n",
       "      <td>59883</td>\n",
       "      <td>6803</td>\n",
       "      <td>434</td>\n",
       "      <td>314</td>\n",
       "      <td>481230.0036</td>\n",
       "      <td>394974.0035</td>\n",
       "      <td>0.046156</td>\n",
       "      <td>1257.878992</td>\n",
       "    </tr>\n",
       "  </tbody>\n",
       "</table>\n",
       "</div>"
      ],
      "text/plain": [
       "  grp  users  active  paying  active_paying      revenue  revenue_active  \\\n",
       "0   A  14693    1538     107             78   92096.0000      72820.0000   \n",
       "1   B  59883    6803     434            314  481230.0036     394974.0035   \n",
       "\n",
       "   CR_active        ARPPU  \n",
       "0   0.050715   933.589744  \n",
       "1   0.046156  1257.878992  "
      ]
     },
     "execution_count": 86,
     "metadata": {},
     "output_type": "execute_result"
    }
   ],
   "source": [
    "# Считаем метрики\n",
    "df_ab_grp['CR_active'] = df_ab_grp.active_paying / df_ab_grp.active\n",
    "df_ab_grp['ARPPU'] = df_ab_grp.revenue_active / df_ab_grp.active_paying\n",
    "df_ab_grp"
   ]
  },
  {
   "cell_type": "markdown",
   "id": "1f4d06a0",
   "metadata": {},
   "source": [
    "#### Видим, что есть различия в метриках: CR_active в тестовой группе ниже, ARPPU в тестовой группе значительно выше. \n",
    "#### Проведем статистические тесты, чтобы понять являются ли различия в метриках статистически значимыми. "
   ]
  },
  {
   "cell_type": "markdown",
   "id": "cea8a633",
   "metadata": {},
   "source": [
    "### Конверсия\n",
    "#### Для сравнения конверсий будем использовать критерий Хи-квадрат, т.к. обе переменные(конверсия, группа) являются категориальными. Необходимые требования выполняются - все наблюдения независимы между собой, число наблюдений в каждой ячейке больше 5. \n",
    "#### H0 - конверсии между группами не различаются\n",
    "#### Н1 - конверсии отличаютя\n",
    "#### Уровень значимости установим 0.05\n",
    "#### Число степеней свободы 1\n",
    "#### Критическое значение статистики 3.841(расчитано по таблице критических значений, при p-value=0.05 и числе степеней свободы - 1)."
   ]
  },
  {
   "cell_type": "code",
   "execution_count": 87,
   "id": "8bfa0fde",
   "metadata": {},
   "outputs": [
    {
     "data": {
      "text/html": [
       "<div>\n",
       "<style scoped>\n",
       "    .dataframe tbody tr th:only-of-type {\n",
       "        vertical-align: middle;\n",
       "    }\n",
       "\n",
       "    .dataframe tbody tr th {\n",
       "        vertical-align: top;\n",
       "    }\n",
       "\n",
       "    .dataframe thead th {\n",
       "        text-align: right;\n",
       "    }\n",
       "</style>\n",
       "<table border=\"1\" class=\"dataframe\">\n",
       "  <thead>\n",
       "    <tr style=\"text-align: right;\">\n",
       "      <th></th>\n",
       "      <th>active</th>\n",
       "      <th>active_paying</th>\n",
       "      <th>CR_active</th>\n",
       "    </tr>\n",
       "  </thead>\n",
       "  <tbody>\n",
       "    <tr>\n",
       "      <th>0</th>\n",
       "      <td>1538</td>\n",
       "      <td>78</td>\n",
       "      <td>0.050715</td>\n",
       "    </tr>\n",
       "    <tr>\n",
       "      <th>1</th>\n",
       "      <td>6803</td>\n",
       "      <td>314</td>\n",
       "      <td>0.046156</td>\n",
       "    </tr>\n",
       "  </tbody>\n",
       "</table>\n",
       "</div>"
      ],
      "text/plain": [
       "   active  active_paying  CR_active\n",
       "0    1538             78   0.050715\n",
       "1    6803            314   0.046156"
      ]
     },
     "execution_count": 87,
     "metadata": {},
     "output_type": "execute_result"
    }
   ],
   "source": [
    "df_ab_grp[['active', 'active_paying', 'CR_active']]"
   ]
  },
  {
   "cell_type": "markdown",
   "id": "065bd740",
   "metadata": {},
   "source": [
    "#### Подготовим данные следующим образом:\n",
    "#### - в тестовой группе количество пользователей совершивших покупку равно 314, значит количество не сконвертировавшихся пользователей равно 6489(6803-314).\n",
    "#### - конверсия в контрольной группе равна 0.050715, посчитаем какое было бы распределение признака, в тестовой группе если бы показатели конверсии не отличались: 6803*0.050715=345(сконвертировавшиеся), 6803-345=6458(не сконвертировавшиеся).\n",
    "#### Сравним реальные и ожидаемые значения с помощью теста Хи-квадрат"
   ]
  },
  {
   "cell_type": "code",
   "execution_count": 88,
   "id": "946c8581",
   "metadata": {},
   "outputs": [
    {
     "data": {
      "text/plain": [
       "Power_divergenceResult(statistic=2.934314926773219, pvalue=0.08671544329914402)"
      ]
     },
     "execution_count": 88,
     "metadata": {},
     "output_type": "execute_result"
    }
   ],
   "source": [
    "test = [314, 6489]\n",
    "exp = [345, 6458]\n",
    "stats.chisquare(test, exp)"
   ]
  },
  {
   "cell_type": "markdown",
   "id": "71ec202f",
   "metadata": {},
   "source": [
    "#### Полученная статистика - 2,934 ниже критического значения 3.841.\n",
    "#### P-value 0.08 выше заданного уровня значимости.\n",
    "#### Данные результаты не позволяют нам отвергнуть нулевую гипотезу. А значит у нас нет оснований полагать что различия конверсий двух групп статистически значимы и новая механика оплаты повлияла на конверсию."
   ]
  },
  {
   "cell_type": "markdown",
   "id": "932de4c8",
   "metadata": {},
   "source": [
    "### Средняя выручка"
   ]
  },
  {
   "cell_type": "code",
   "execution_count": 89,
   "id": "4cdf7f64",
   "metadata": {},
   "outputs": [
    {
     "data": {
      "text/html": [
       "<div>\n",
       "<style scoped>\n",
       "    .dataframe tbody tr th:only-of-type {\n",
       "        vertical-align: middle;\n",
       "    }\n",
       "\n",
       "    .dataframe tbody tr th {\n",
       "        vertical-align: top;\n",
       "    }\n",
       "\n",
       "    .dataframe thead th {\n",
       "        text-align: right;\n",
       "    }\n",
       "</style>\n",
       "<table border=\"1\" class=\"dataframe\">\n",
       "  <thead>\n",
       "    <tr style=\"text-align: right;\">\n",
       "      <th></th>\n",
       "      <th>student_id</th>\n",
       "      <th>grp</th>\n",
       "      <th>active</th>\n",
       "      <th>rev</th>\n",
       "      <th>active_paying</th>\n",
       "      <th>paying</th>\n",
       "    </tr>\n",
       "  </thead>\n",
       "  <tbody>\n",
       "    <tr>\n",
       "      <th>0</th>\n",
       "      <td>1489</td>\n",
       "      <td>B</td>\n",
       "      <td>NaN</td>\n",
       "      <td>NaN</td>\n",
       "      <td>0</td>\n",
       "      <td>0</td>\n",
       "    </tr>\n",
       "    <tr>\n",
       "      <th>1</th>\n",
       "      <td>1627</td>\n",
       "      <td>A</td>\n",
       "      <td>1.0</td>\n",
       "      <td>990.0</td>\n",
       "      <td>1</td>\n",
       "      <td>1</td>\n",
       "    </tr>\n",
       "    <tr>\n",
       "      <th>2</th>\n",
       "      <td>1768</td>\n",
       "      <td>B</td>\n",
       "      <td>NaN</td>\n",
       "      <td>NaN</td>\n",
       "      <td>0</td>\n",
       "      <td>0</td>\n",
       "    </tr>\n",
       "    <tr>\n",
       "      <th>3</th>\n",
       "      <td>1783</td>\n",
       "      <td>B</td>\n",
       "      <td>NaN</td>\n",
       "      <td>NaN</td>\n",
       "      <td>0</td>\n",
       "      <td>0</td>\n",
       "    </tr>\n",
       "    <tr>\n",
       "      <th>4</th>\n",
       "      <td>1794</td>\n",
       "      <td>A</td>\n",
       "      <td>NaN</td>\n",
       "      <td>NaN</td>\n",
       "      <td>0</td>\n",
       "      <td>0</td>\n",
       "    </tr>\n",
       "  </tbody>\n",
       "</table>\n",
       "</div>"
      ],
      "text/plain": [
       "   student_id grp  active    rev  active_paying  paying\n",
       "0        1489   B     NaN    NaN              0       0\n",
       "1        1627   A     1.0  990.0              1       1\n",
       "2        1768   B     NaN    NaN              0       0\n",
       "3        1783   B     NaN    NaN              0       0\n",
       "4        1794   A     NaN    NaN              0       0"
      ]
     },
     "execution_count": 89,
     "metadata": {},
     "output_type": "execute_result"
    }
   ],
   "source": [
    "df_ab.head()"
   ]
  },
  {
   "cell_type": "code",
   "execution_count": 106,
   "id": "8db9cbd6",
   "metadata": {},
   "outputs": [
    {
     "data": {
      "text/plain": [
       "<seaborn.axisgrid.FacetGrid at 0x13e5ed3f880>"
      ]
     },
     "execution_count": 106,
     "metadata": {},
     "output_type": "execute_result"
    },
    {
     "data": {
      "image/png": "[encoded data removed]",
      "text/plain": [
       "<Figure size 559.25x500 with 1 Axes>"
      ]
     },
     "metadata": {},
     "output_type": "display_data"
    }
   ],
   "source": [
    "# Посмотрим на распределения значений выручки по группам среди активных пользователей\n",
    "sns.displot(data=df_ab.query('paying==1 and active==1'), x='rev', hue='grp')"
   ]
  },
  {
   "cell_type": "markdown",
   "id": "b18688b7",
   "metadata": {},
   "source": [
    "#### Как видим распределения далеки от нормальных, и значит сравнение средних с помощью Т-теста Стьюдента может дать не точный результат.\n",
    "#### Поэтому для сравнения средней выручки лучше использовать бутстрап. Данный метод можно использовать при распределениях отличных от нормальных, а так же он не чувствителен к выбросам, как t-test."
   ]
  },
  {
   "cell_type": "code",
   "execution_count": 91,
   "id": "8b165d9b",
   "metadata": {},
   "outputs": [
    {
     "data": {
      "text/plain": [
       "Ttest_indResult(statistic=-3.1337795050930985, pvalue=0.0018562025265765867)"
      ]
     },
     "execution_count": 91,
     "metadata": {},
     "output_type": "execute_result"
    }
   ],
   "source": [
    "# t-test\n",
    "stats.ttest_ind(df_ab.query('paying==1 and active==1 and grp==\"A\"').rev,\n",
    "                df_ab.query('paying==1 and active==1 and grp==\"B\"').rev)"
   ]
  },
  {
   "cell_type": "markdown",
   "id": "92365884",
   "metadata": {},
   "source": [
    "#### Т-тест показал статзначимые различия в тестовой и контрольной группах(p-value<0,05). Теперь проверим с помощью бутстрапа:"
   ]
  },
  {
   "cell_type": "code",
   "execution_count": 92,
   "id": "50e4e35a",
   "metadata": {},
   "outputs": [
    {
     "data": {
      "text/plain": [
       "BootstrapResult(confidence_interval=ConfidenceInterval(low=756.3517699157742, high=1165.4934931117234), standard_error=103.54657803265314)"
      ]
     },
     "execution_count": 92,
     "metadata": {},
     "output_type": "execute_result"
    }
   ],
   "source": [
    "# bootstrap\n",
    "# рассчитываем доверительный интервал для контрольной группы\n",
    "bootstrap((df_ab.query('paying==1 and active==1 and grp==\"A\"').rev, ), np.mean)"
   ]
  },
  {
   "cell_type": "code",
   "execution_count": 93,
   "id": "a1735438",
   "metadata": {},
   "outputs": [
    {
     "data": {
      "text/plain": [
       "BootstrapResult(confidence_interval=ConfidenceInterval(low=1170.6850569183416, high=1345.5297690498242), standard_error=44.41210358425952)"
      ]
     },
     "execution_count": 93,
     "metadata": {},
     "output_type": "execute_result"
    }
   ],
   "source": [
    "# bootstrap\n",
    "# доверительный интервал для тестовой группы\n",
    "bootstrap((df_ab.query('paying==1 and active==1 and grp==\"B\"').rev, ), np.mean)"
   ]
  },
  {
   "cell_type": "markdown",
   "id": "0d9ea13e",
   "metadata": {},
   "source": [
    "#### Доверительные интервалы в тестовой и контрольной группе не пересекаются, значит мы можем сделать вывод, что различия в средней выручке на платящего пользователя являются статистически значимыми."
   ]
  },
  {
   "cell_type": "markdown",
   "id": "f20e814d",
   "metadata": {},
   "source": [
    "### Выводы:\n",
    "#### 1. По результатам эксперимента конверсия пользователей зашедших на платформу была ниже в тестовой группе, но стат-тест не выявил статистически значимых различий, и значит пока мы не можем утверждать, что новая механика оплаты как то повлияла на конверсию.\n",
    "#### 2. Мы зафиксировали, что средняя выручка на платящего пользователя(ARPPU) выше в тестовой группе, чем в контрольной. Проведенные тесты, также подтвердили, что есть статистически значимые различия по данной метрике в разных группах. Но у нас недостаточно данных, чтобы понять за счет чего точно увеличилась средняя выручка(повышение среднего чека или увеличение количества повторных покупок пользователей). \n",
    "#### 3. На графике мы зафиксировали, что в группе B большинство чеков(или суммарная выручка с пользователя) равняется 1900, чего нет в группе А, возможно новая механика оплаты включала в себя какую то акцию(например 2 курса по цене 1900 или что то подобное), либо это технический момент, например различные А/В-тесты наложились друг на друга или система сплитования пользователей сработала некорректно. Однозначно ответить на этот вопрос мы не можем, нужны дополнительные данные и анализ.\n",
    "### Рекомендации:\n",
    "* **Не запускать новую механику оплаты на всех пользователей**\n",
    "* **Углубиться в данные и разобраться, с чем связано аномальное количество чеков на 1900 в тестовой группе**"
   ]
  },
  {
   "cell_type": "markdown",
   "id": "e626e8e4",
   "metadata": {},
   "source": [
    "# 2. SQL-запросы"
   ]
  },
  {
   "cell_type": "markdown",
   "id": "0e474630",
   "metadata": {},
   "source": [
    "## 2.1 Очень усердные ученики.\n",
    "\n",
    "#### Дана таблица default.peas\n",
    "#### Необходимо написать оптимальный запрос, который даст информацию о количестве очень усердных студентов.NB! Под усердным студентом мы понимаем студента, который правильно решил 20 задач за текущий месяц."
   ]
  },
  {
   "cell_type": "code",
   "execution_count": 105,
   "id": "6c452086",
   "metadata": {},
   "outputs": [],
   "source": [
    "# Создаем словарь с нужными параметрами для подключения к базе данных(данные для подключения скрыты)\n",
    "connection_default = {'host': 'https://clickhouse.******',\n",
    "                      'database': '******',\n",
    "                      'user': '******', \n",
    "                      'password': '*******'\n",
    "                     }"
   ]
  },
  {
   "cell_type": "code",
   "execution_count": 95,
   "id": "38bf6b8b",
   "metadata": {},
   "outputs": [],
   "source": [
    "# создаем SQL-запрос\n",
    "q = \"\"\"WITH\n",
    "    (SELECT MAX(toStartOfMonth(timest)) FROM peas) AS current_month --текущий месяц\n",
    "\n",
    "SELECT\n",
    "    COUNT(*) AS diligent_students\n",
    "FROM\n",
    "    (\n",
    "    SELECT\n",
    "        st_id,\n",
    "        toStartOfMonth(timest) AS months,\n",
    "        COUNT(correct) AS correct_decisions\n",
    "    FROM peas\n",
    "    WHERE\n",
    "        correct == 1\n",
    "    GROUP BY\n",
    "        st_id,\n",
    "        months\n",
    "    HAVING\n",
    "        correct_decisions >= 20\n",
    "        AND months == current_month\n",
    "    )\"\"\""
   ]
  },
  {
   "cell_type": "code",
   "execution_count": 96,
   "id": "f166df5c",
   "metadata": {
    "scrolled": true
   },
   "outputs": [
    {
     "data": {
      "text/html": [
       "<div>\n",
       "<style scoped>\n",
       "    .dataframe tbody tr th:only-of-type {\n",
       "        vertical-align: middle;\n",
       "    }\n",
       "\n",
       "    .dataframe tbody tr th {\n",
       "        vertical-align: top;\n",
       "    }\n",
       "\n",
       "    .dataframe thead th {\n",
       "        text-align: right;\n",
       "    }\n",
       "</style>\n",
       "<table border=\"1\" class=\"dataframe\">\n",
       "  <thead>\n",
       "    <tr style=\"text-align: right;\">\n",
       "      <th></th>\n",
       "      <th>diligent_students</th>\n",
       "    </tr>\n",
       "  </thead>\n",
       "  <tbody>\n",
       "    <tr>\n",
       "      <th>0</th>\n",
       "      <td>136</td>\n",
       "    </tr>\n",
       "  </tbody>\n",
       "</table>\n",
       "</div>"
      ],
      "text/plain": [
       "   diligent_students\n",
       "0                136"
      ]
     },
     "execution_count": 96,
     "metadata": {},
     "output_type": "execute_result"
    }
   ],
   "source": [
    "# Отправляем запрос и выводим результат\n",
    "diligent_students = ph.read_clickhouse(query=q, connection=connection_default)\n",
    "diligent_students"
   ]
  },
  {
   "cell_type": "markdown",
   "id": "acf01a70",
   "metadata": {},
   "source": [
    "## 2.2 Оптимизация воронки\n",
    "### Условие\n",
    "#### Образовательная платформа предлагает пройти студентам курсы по модели trial: студент может решить бесплатно лишь 30 горошин в день. Для неограниченного количества заданий в определенной дисциплине студенту необходимо приобрести полный доступ. Команда провела эксперимент, где был протестирован новый экран оплаты.\n",
    "\n",
    "### Задача\n",
    "\n",
    "#### Дана таблицы: default.peas, default.studs и default.final_project_check\t\n",
    "#### Необходимо в одном запросе выгрузить следующую информацию о группах пользователей:\n",
    "* **ARPU** \n",
    "* **ARPAU** \n",
    "* **CR в покупку** \n",
    "* **СR активного пользователя в покупку** \n",
    "* **CR пользователя из активности по математике в покупку курса по математике**\n",
    "\n",
    "#### ARPU считается относительно всех пользователей, попавших в группы.\n",
    "#### Активным считается пользователь, за все время решивший больше 10 задач правильно в любых дисциплинах.\n",
    "#### Активным по математике считается пользователь, за все время решивший 2 или больше задач правильно по математике."
   ]
  },
  {
   "cell_type": "code",
   "execution_count": 97,
   "id": "7f06f72a",
   "metadata": {},
   "outputs": [],
   "source": [
    "# Создаем SQL-запрос\n",
    "q=\"\"\"SELECT\n",
    "    s.test_grp AS test_grp,\n",
    "    ROUND(SUM(f.money)/COUNT(DISTINCT toUInt64OrNull(s.st_id)), 2) AS ARPU,\n",
    "    ROUND(SUM(f.money)/COUNT(DISTINCT toUInt64OrNull(a.st_id)), 2) AS ARPAU,\n",
    "    ROUND(COUNT(DISTINCT toUInt64OrNull(f.st_id))/COUNT(DISTINCT toUInt64OrNull(s.st_id)), 2) AS CR,\n",
    "    ROUND(COUNT(DISTINCT toUInt64OrNull(ap.st_id))/COUNT(DISTINCT toUInt64OrNull(a.st_id)), 2) AS CR_activ,\n",
    "    ROUND(COUNT(DISTINCT toUInt64OrNull(amp.st_id))/COUNT(DISTINCT toUInt64OrNull(am.st_id)), 2) AS CR_activ_math\n",
    "FROM studs AS s\n",
    "LEFT JOIN final_project_check AS f --пользователи совершившие покупку\n",
    "ON s.st_id = f.st_id\n",
    "\n",
    "LEFT JOIN (\n",
    "    SELECT\n",
    "        st_id,\n",
    "        COUNT(correct) AS correct_decisions\n",
    "    FROM peas\n",
    "    WHERE correct == 1\n",
    "    GROUP BY st_id\n",
    "    HAVING correct_decisions > 10\n",
    "    ) AS a --активные пользователи\n",
    "ON s.st_id = a.st_id\n",
    "\n",
    "LEFT JOIN (\n",
    "    SELECT\n",
    "        st_id\n",
    "    FROM (\n",
    "        SELECT\n",
    "            st_id,\n",
    "            COUNT(correct) AS correct_decisions\n",
    "        FROM peas\n",
    "        WHERE correct == 1\n",
    "        GROUP BY st_id\n",
    "        HAVING correct_decisions > 10\n",
    "        ) AS a\n",
    "    JOIN (\n",
    "        SELECT\n",
    "            st_id,\n",
    "            SUM(money) AS sum_money\n",
    "        FROM final_project_check\n",
    "        GROUP BY st_id\n",
    "        ) AS fm\n",
    "    ON a.st_id = fm.st_id\n",
    "        ) AS ap --активные пользователи, совершившие покупку\n",
    "ON s.st_id = ap.st_id\n",
    "\n",
    "LEFT JOIN (\n",
    "    SELECT\n",
    "        st_id,\n",
    "        COUNT(correct) AS correct_decisions_math\n",
    "    FROM peas\n",
    "    WHERE correct == 1\n",
    "    AND subject == 'Math'\n",
    "    GROUP BY st_id\n",
    "    HAVING correct_decisions_math >= 2\n",
    "    ) AS am --активные пользователи по математике\n",
    "ON s.st_id = am.st_id\n",
    "\n",
    "LEFT JOIN (\n",
    "    SELECT\n",
    "        st_id\n",
    "    FROM (\n",
    "        SELECT\n",
    "            st_id,\n",
    "            COUNT(correct) AS correct_decisions_math\n",
    "        FROM peas\n",
    "        WHERE correct == 1\n",
    "        AND subject == 'Math'\n",
    "        GROUP BY st_id\n",
    "        HAVING correct_decisions_math >= 2\n",
    "        ) AS am\n",
    "    JOIN (\n",
    "        SELECT\n",
    "            st_id,\n",
    "            SUM(money) AS sum_money\n",
    "        FROM final_project_check\n",
    "        WHERE subject == 'Math'\n",
    "        GROUP BY st_id\n",
    "        ) AS pm\n",
    "    ON am.st_id = pm.st_id\n",
    "    ) AS amp --активные пользователи по математике, купившие курс по математике\n",
    "ON s.st_id = amp.st_id\n",
    "\n",
    "GROUP BY s.test_grp\"\"\""
   ]
  },
  {
   "cell_type": "code",
   "execution_count": 98,
   "id": "23c7ae97",
   "metadata": {
    "scrolled": true
   },
   "outputs": [
    {
     "data": {
      "text/html": [
       "<div>\n",
       "<style scoped>\n",
       "    .dataframe tbody tr th:only-of-type {\n",
       "        vertical-align: middle;\n",
       "    }\n",
       "\n",
       "    .dataframe tbody tr th {\n",
       "        vertical-align: top;\n",
       "    }\n",
       "\n",
       "    .dataframe thead th {\n",
       "        text-align: right;\n",
       "    }\n",
       "</style>\n",
       "<table border=\"1\" class=\"dataframe\">\n",
       "  <thead>\n",
       "    <tr style=\"text-align: right;\">\n",
       "      <th></th>\n",
       "      <th>test_grp</th>\n",
       "      <th>ARPU</th>\n",
       "      <th>ARPAU</th>\n",
       "      <th>CR</th>\n",
       "      <th>CR_activ</th>\n",
       "      <th>CR_activ_math</th>\n",
       "    </tr>\n",
       "  </thead>\n",
       "  <tbody>\n",
       "    <tr>\n",
       "      <th>0</th>\n",
       "      <td>control</td>\n",
       "      <td>4540.98</td>\n",
       "      <td>10905.51</td>\n",
       "      <td>0.05</td>\n",
       "      <td>0.11</td>\n",
       "      <td>0.06</td>\n",
       "    </tr>\n",
       "    <tr>\n",
       "      <th>1</th>\n",
       "      <td>pilot</td>\n",
       "      <td>11508.47</td>\n",
       "      <td>35364.58</td>\n",
       "      <td>0.11</td>\n",
       "      <td>0.26</td>\n",
       "      <td>0.10</td>\n",
       "    </tr>\n",
       "  </tbody>\n",
       "</table>\n",
       "</div>"
      ],
      "text/plain": [
       "  test_grp      ARPU     ARPAU    CR  CR_activ  CR_activ_math\n",
       "0  control   4540.98  10905.51  0.05      0.11           0.06\n",
       "1    pilot  11508.47  35364.58  0.11      0.26           0.10"
      ]
     },
     "execution_count": 98,
     "metadata": {},
     "output_type": "execute_result"
    }
   ],
   "source": [
    "# Отправляем запрос и записываем результат в датафрейм\n",
    "metrics_sql = ph.read_clickhouse(query=q, connection=connection_default)\n",
    "metrics_sql"
   ]
  },
  {
   "cell_type": "markdown",
   "id": "36be7552",
   "metadata": {},
   "source": [
    "# Задание 3. Реализация функций на Python\n",
    "\n",
    "#### 3.1 Реализовать функцию, которая будет автоматически подгружать информацию из дополнительного файла groups_add.csv (заголовки могут отличаться) и на основании дополнительных параметров пересчитывать метрики из предыдущего задания.\n",
    "#### 3.2 Реализовать функцию, которая будет строить графики по получаемым метрикам."
   ]
  },
  {
   "cell_type": "code",
   "execution_count": 99,
   "id": "0992a534",
   "metadata": {},
   "outputs": [],
   "source": [
    "# Функция принимает на вход словарь с параметрами подключения к базе данных и путь к файлу с дополнительными данными\n",
    "# Возвращает датафрейм с пересчитанными метриками из предыдущего задания\n",
    "\n",
    "def groups_add(connection_default, path):\n",
    "    # Создаем SQL-запросы и считываем данные из базы данных\n",
    "    q_studs = \"\"\"SELECT * FROM studs\"\"\"\n",
    "    q_peas = \"\"\"SELECT st_id, correct, subject FROM peas\"\"\"\n",
    "    q_final_project_check = \"\"\"SELECT st_id, money, subject FROM final_project_check\"\"\"\n",
    "    studs = ph.read_clickhouse(query=q_studs, connection=connection_default)\n",
    "    peas = ph.read_clickhouse(query=q_peas, connection=connection_default)\n",
    "    final_project_check = ph.read_clickhouse(query=q_final_project_check, connection=connection_default)\n",
    "\n",
    "    # Считываем данные из дополнительного файла без заголовков, задаем названия столбцов как в базе данных \n",
    "    groups_add = pd.read_csv(path, skiprows=1, header=None, names=['st_id', 'test_grp'])\n",
    "\n",
    "    # Меняем метки групп как в базе данных\n",
    "    groups_add['test_grp'] = groups_add.test_grp.apply(lambda x: x.replace('A', 'control').replace('B', 'pilot'))\n",
    "\n",
    "    # Объединяем данные из базы данных и дополнительного файла\n",
    "    studs_new = pd.concat([studs, groups_add], axis=0, ignore_index=True)\n",
    "\n",
    "    # Активные пользователи\n",
    "    active_users = peas.query('correct == 1') \\\n",
    "        .groupby('st_id', as_index=False) \\\n",
    "        .agg({'correct': 'count'}) \\\n",
    "        .query('correct > 10')\n",
    "    \n",
    "    # Количество активных пользователей по группам\n",
    "    active_users_grp = studs_new.merge(active_users) \\\n",
    "        .groupby('test_grp') \\\n",
    "        .agg({'st_id': 'nunique'}) \\\n",
    "        .rename(columns={'st_id': 'active_users'})\n",
    "\n",
    "    # Пользователи совершившие покупку\n",
    "    paying_users = final_project_check \\\n",
    "        .groupby('st_id', as_index=False) \\\n",
    "        .agg({'money': 'sum'})\n",
    "    \n",
    "    # Количество пользователей совершивших покупку по группам\n",
    "    paying_users_grp = paying_users.merge(studs_new) \\\n",
    "        .groupby('test_grp') \\\n",
    "        .agg({'st_id': 'nunique'}) \\\n",
    "        .rename(columns={'st_id': 'paying_users'})\n",
    "\n",
    "    # Активные пользователи совершившие покупку\n",
    "    active_paying_users = active_users.merge(paying_users)\n",
    "    \n",
    "    # Количество активных пользователей совершивших покупку по группам\n",
    "    active_paying_users_grp = active_paying_users.merge(studs_new) \\\n",
    "        .groupby('test_grp') \\\n",
    "        .agg({'st_id': 'count'}) \\\n",
    "        .rename(columns={'st_id': 'active_paying_users'})\n",
    "\n",
    "    # Активные пользователи по математике\n",
    "    active_users_math = peas.query('correct == 1 and subject == \"Math\"') \\\n",
    "        .groupby('st_id', as_index=False) \\\n",
    "        .agg({'correct': 'count'}) \\\n",
    "        .query('correct >= 2')\n",
    "    \n",
    "    # Количество активных пользователей по математике по группам\n",
    "    active_users_math_grp = active_users_math.merge(studs_new) \\\n",
    "        .groupby('test_grp') \\\n",
    "        .agg({'st_id': 'count'}) \\\n",
    "        .rename(columns={'st_id': 'active_users_math'})\n",
    "\n",
    "    # Активные пользователи по математике, купившие курс по математике\n",
    "    active_paying_users_math = final_project_check.query('subject == \"Math\"') \\\n",
    "        .merge(active_users_math)\n",
    "    \n",
    "    # Количество активных пользователей по математике, купивших курс по математике, по группам\n",
    "    active_paying_users_math_grp = active_paying_users_math.merge(studs_new) \\\n",
    "        .groupby('test_grp') \\\n",
    "        .agg({'st_id': 'count'}) \\\n",
    "        .rename(columns={'st_id': 'active_paying_users_math'})\n",
    "  \n",
    "    # Создаем датафрейм, в котором будем считать метрики. Считаем выручку и количество пользователей по группам\n",
    "    metrics = studs_new.merge(final_project_check, how='left') \\\n",
    "        .groupby('test_grp') \\\n",
    "        .agg({'money': 'sum', 'st_id': 'nunique'}) \\\n",
    "        .rename(columns={'money': 'revenue', 'st_id': 'users'})\n",
    "    \n",
    "    # Объединяем все посчитанные показатели по группам\n",
    "    metrics = pd.concat([metrics,\n",
    "                        active_users_grp,\n",
    "                        paying_users_grp,\n",
    "                        active_paying_users_grp,\n",
    "                        active_users_math_grp,\n",
    "                        active_paying_users_math_grp], axis=1)\n",
    "    # Считаем метрики\n",
    "    metrics['ARPU'] = round(metrics.revenue / metrics.users, 2)  \n",
    "    metrics['ARPAU'] = round(metrics.revenue / metrics.active_users, 2)\n",
    "    metrics['CR'] = round(metrics.paying_users / metrics.users, 2)  \n",
    "    metrics['CR_active'] = round(metrics.active_paying_users / metrics.active_users, 2)    \n",
    "    metrics['CR_active_math'] = round(metrics.active_paying_users_math / metrics.active_users_math, 2)\n",
    "    \n",
    "    return metrics.reset_index()[['test_grp', 'ARPU', 'ARPAU', 'CR', 'CR_active', 'CR_active_math']]"
   ]
  },
  {
   "cell_type": "code",
   "execution_count": 100,
   "id": "1caad0d7",
   "metadata": {},
   "outputs": [],
   "source": [
    "# Функция принимает на вход датафрейм с метриками и строит по ним графики\n",
    "\n",
    "def metric_charts(df):\n",
    "    # Преобразовываем столбцы в строки\n",
    "    df_melt = df.melt(id_vars='test_grp')\n",
    "    \n",
    "    # Для одновременного отображения двух графиков используем subplots()\n",
    "    f, axs = plt.subplots(1, 2, figsize=(8, 4), gridspec_kw=dict(width_ratios=[3, 4]))\n",
    "    \n",
    "    # Задаем визуальное оформление графиков\n",
    "    sns.set_style('darkgrid')\n",
    "    sns.set_palette('colorblind')\n",
    "    \n",
    "    # График с метриками конверсий\n",
    "    sns.barplot(data=df_melt.query('variable == \"CR\" or variable == \"CR_active\" or variable == \"CR_active_math\"'),\n",
    "                x='variable',\n",
    "                y='value',\n",
    "                hue='test_grp',\n",
    "                ax=axs[1])\n",
    "    \n",
    "    # График с метриками средней выручки\n",
    "    sns.barplot(data=df_melt.query('variable == \"ARPU\" or variable == \"ARPAU\"'),\n",
    "                x='variable',\n",
    "                y='value',\n",
    "                hue='test_grp',\n",
    "                ax=axs[0])\n",
    "    \n",
    "    # Задаем названия графикам и осям\n",
    "    f.suptitle('Metrics')\n",
    "    axs[0].set_title('Average revenue')\n",
    "    axs[1].set_title('Conversion')\n",
    "    axs[0].set_xlabel('')\n",
    "    axs[0].set_ylabel('')\n",
    "    axs[1].set_xlabel('')\n",
    "    axs[1].set_ylabel('')\n",
    "    plt.show()"
   ]
  },
  {
   "cell_type": "markdown",
   "id": "74432428",
   "metadata": {},
   "source": [
    "#### Проверим работу функций"
   ]
  },
  {
   "cell_type": "code",
   "execution_count": 101,
   "id": "6957d90a",
   "metadata": {},
   "outputs": [],
   "source": [
    "# Параметры подключения к базе данных\n",
    "connection_default = {'host': 'https://clickhouse.******',\n",
    "                      'database': '******',\n",
    "                      'user': '******', \n",
    "                      'password': '******'\n",
    "                     }\n",
    "# Путь к файлу с дополнительными данными\n",
    "path = 'groups_add.csv'"
   ]
  },
  {
   "cell_type": "code",
   "execution_count": 102,
   "id": "810d00c5",
   "metadata": {},
   "outputs": [
    {
     "data": {
      "text/html": [
       "<div>\n",
       "<style scoped>\n",
       "    .dataframe tbody tr th:only-of-type {\n",
       "        vertical-align: middle;\n",
       "    }\n",
       "\n",
       "    .dataframe tbody tr th {\n",
       "        vertical-align: top;\n",
       "    }\n",
       "\n",
       "    .dataframe thead th {\n",
       "        text-align: right;\n",
       "    }\n",
       "</style>\n",
       "<table border=\"1\" class=\"dataframe\">\n",
       "  <thead>\n",
       "    <tr style=\"text-align: right;\">\n",
       "      <th></th>\n",
       "      <th>test_grp</th>\n",
       "      <th>ARPU</th>\n",
       "      <th>ARPAU</th>\n",
       "      <th>CR</th>\n",
       "      <th>CR_active</th>\n",
       "      <th>CR_active_math</th>\n",
       "    </tr>\n",
       "  </thead>\n",
       "  <tbody>\n",
       "    <tr>\n",
       "      <th>0</th>\n",
       "      <td>control</td>\n",
       "      <td>4235.47</td>\n",
       "      <td>10905.51</td>\n",
       "      <td>0.05</td>\n",
       "      <td>0.11</td>\n",
       "      <td>0.06</td>\n",
       "    </tr>\n",
       "    <tr>\n",
       "      <th>1</th>\n",
       "      <td>pilot</td>\n",
       "      <td>9301.37</td>\n",
       "      <td>35364.58</td>\n",
       "      <td>0.09</td>\n",
       "      <td>0.26</td>\n",
       "      <td>0.10</td>\n",
       "    </tr>\n",
       "  </tbody>\n",
       "</table>\n",
       "</div>"
      ],
      "text/plain": [
       "  test_grp     ARPU     ARPAU    CR  CR_active  CR_active_math\n",
       "0  control  4235.47  10905.51  0.05       0.11            0.06\n",
       "1    pilot  9301.37  35364.58  0.09       0.26            0.10"
      ]
     },
     "execution_count": 102,
     "metadata": {},
     "output_type": "execute_result"
    }
   ],
   "source": [
    "df_metrics = groups_add(connection_default, path)\n",
    "df_metrics"
   ]
  },
  {
   "cell_type": "code",
   "execution_count": 104,
   "id": "dec8a7c4",
   "metadata": {},
   "outputs": [
    {
     "data": {
      "image/png": "[encoded data removed]",
      "text/plain": [
       "<Figure size 800x400 with 2 Axes>"
      ]
     },
     "metadata": {},
     "output_type": "display_data"
    }
   ],
   "source": [
    "metric_charts(df_metrics)"
   ]
  },
  {
   "cell_type": "code",
   "execution_count": null,
   "id": "a2d10064",
   "metadata": {},
   "outputs": [],
   "source": []
  }
 ],
 "metadata": {
  "kernelspec": {
   "display_name": "Python 3 (ipykernel)",
   "language": "python",
   "name": "python3"
  },
  "language_info": {
   "codemirror_mode": {
    "name": "ipython",
    "version": 3
   },
   "file_extension": ".py",
   "mimetype": "text/x-python",
   "name": "python",
   "nbconvert_exporter": "python",
   "pygments_lexer": "ipython3",
   "version": "3.9.13"
  }
 },
 "nbformat": 4,
 "nbformat_minor": 5
}
